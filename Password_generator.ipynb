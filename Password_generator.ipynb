{
 "cells": [
  {
   "cell_type": "code",
   "execution_count": 3,
   "id": "114dde4e-a8d4-4b99-b475-694a2a0c9cdd",
   "metadata": {},
   "outputs": [
    {
     "name": "stdout",
     "output_type": "stream",
     "text": [
      "Welcome to the PyPassword Generator!\n"
     ]
    },
    {
     "name": "stdin",
     "output_type": "stream",
     "text": [
      "How many letters would you like in your password?\n",
      " 4\n",
      "How many symbols would you like?\n",
      " 4\n",
      "How many numbers would you like?\n",
      " 4\n"
     ]
    },
    {
     "name": "stdout",
     "output_type": "stream",
     "text": [
      "E*%U2$7$3ds8\n"
     ]
    }
   ],
   "source": [
    "# Pthon password generator\n",
    "letters = ['a', 'b', 'c', 'd', 'e', 'f', 'g', 'h', 'i', 'j', 'k', 'l', 'm', 'n', 'o', 'p', 'q', 'r', 's', 't', 'u', 'v', 'w', 'x', 'y', 'z', 'A', 'B', 'C', 'D', 'E', 'F', 'G', 'H', 'I', 'J', 'K', 'L', 'M', 'N', 'O', 'P', 'Q', 'R', 'S', 'T', 'U', 'V', 'W', 'X', 'Y', 'Z']\n",
    "numbers = ['0', '1', '2', '3', '4', '5', '6', '7', '8', '9']\n",
    "symbols = ['!', '#', '$', '%', '&', '(', ')', '*', '+']\n",
    "\n",
    "# code for a password generator whose password is easy to crack.\n",
    "# print(\"Welcome to the PyPassword Generator!\")\n",
    "# nr_letters= int(input(\"How many letters would you like in your password?\\n\")) \n",
    "# nr_symbols = int(input(f\"How many symbols would you like?\\n\"))\n",
    "# nr_numbers = int(input(f\"How many numbers would you like?\\n\"))\n",
    "\n",
    "# #Eazy Level - Order not randomised:\n",
    "# #e.g. 4 letter, 2 symbol, 2 number = JduE&!91\n",
    "# import random as rd\n",
    "# password=\"\"\n",
    "# for i in range(1, nr_letters+1):\n",
    "#     rd_letters=rd.choice(letters)\n",
    "#     password+=rd_letters\n",
    "# for i in range(1, nr_symbols+1):\n",
    "#     rd_symbols=rd.choice(symbols)\n",
    "#     password+=rd_symbols\n",
    "# for i in range(1, nr_numbers+1):\n",
    "#     rd_numbers=rd.choice(numbers)\n",
    "#     password+=rd_numbers\n",
    "# print(password)\n",
    "\n",
    "\n",
    "# code for a password generator whose password is difficult to crack.\n",
    "\n",
    "#Hard Level - Order of characters randomised:\n",
    "#e.g. 4 letter, 2 symbol, 2 number = g^2jk8&P\n",
    "import random as rd\n",
    "print(\"Welcome to the PyPassword Generator!\")\n",
    "nr_letters= int(input(\"How many letters would you like in your password?\\n\")) \n",
    "nr_symbols = int(input(f\"How many symbols would you like?\\n\"))\n",
    "nr_numbers = int(input(f\"How many numbers would you like?\\n\"))\n",
    "\n",
    "password_list=[]\n",
    "password=\"\"\n",
    "for i in range(0, nr_letters):\n",
    "    rd_letters=rd.choice(letters)\n",
    "    password_list+=rd_letters\n",
    "for i in range(0, nr_symbols):\n",
    "    rd_symbols=rd.choice(symbols)\n",
    "    password_list+=rd_symbols\n",
    "for i in range(0, nr_numbers):\n",
    "    rd_numbers=rd.choice(numbers)\n",
    "    password_list+=rd_numbers\n",
    "# The shuffle function helps to shuffle the elements inside the list or array.\n",
    "rd.shuffle(password_list) \n",
    "for char in password_list:\n",
    "    password+=char\n",
    "print(password)\n"
   ]
  },
  {
   "cell_type": "code",
   "execution_count": null,
   "id": "d8813687-6060-4452-9b5a-ce2a7b62798a",
   "metadata": {},
   "outputs": [],
   "source": []
  }
 ],
 "metadata": {
  "kernelspec": {
   "display_name": "Python 3 (ipykernel)",
   "language": "python",
   "name": "python3"
  },
  "language_info": {
   "codemirror_mode": {
    "name": "ipython",
    "version": 3
   },
   "file_extension": ".py",
   "mimetype": "text/x-python",
   "name": "python",
   "nbconvert_exporter": "python",
   "pygments_lexer": "ipython3",
   "version": "3.10.7"
  }
 },
 "nbformat": 4,
 "nbformat_minor": 5
}
